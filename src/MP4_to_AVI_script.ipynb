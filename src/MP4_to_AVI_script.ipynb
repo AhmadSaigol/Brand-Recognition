{
  "nbformat": 4,
  "nbformat_minor": 0,
  "metadata": {
    "colab": {
      "name": "MP4_to_AVI_script.ipynb",
      "provenance": []
    },
    "kernelspec": {
      "name": "python3",
      "display_name": "Python 3"
    },
    "language_info": {
      "name": "python"
    }
  },
  "cells": [
    {
      "cell_type": "code",
      "metadata": {
        "id": "gS3FHgJwuK_h"
      },
      "source": [
        "import imageio\n",
        "import os"
      ],
      "execution_count": 1,
      "outputs": []
    },
    {
      "cell_type": "code",
      "metadata": {
        "id": "_w54DpqLuUAa"
      },
      "source": [
        ""
      ],
      "execution_count": null,
      "outputs": []
    },
    {
      "cell_type": "code",
      "metadata": {
        "colab": {
          "base_uri": "https://localhost:8080/"
        },
        "id": "musYL87guQ0B",
        "outputId": "1ca0232a-7856-4106-ad6b-3b20547e5b75"
      },
      "source": [
        "path ='/content/drive/MyDrive/RefinedData'\n",
        "\n",
        "for label in os.listdir(path):\n",
        "  n=os.path.join(path, label)\n",
        "  \n",
        "  for vid in os.listdir(n):\n",
        "\n",
        "    # not considering hidden folders\n",
        "    if vid[0] != '.':\n",
        "      \n",
        "      src_dir = os.path.join(n, vid)\n",
        "      print (\"Converting \", src_dir)\n",
        "      \n",
        "      fir, last = os.path.splitext(src_dir)\n",
        "      \n",
        "      #if file isn't already in avi format\n",
        "      if last != '.avi':\n",
        "\n",
        "        dst_dir = fir + '.avi'\n",
        "\n",
        "        reader = imageio.get_reader(src_dir)\n",
        "        fps = reader.get_meta_data()['fps']\n",
        "        writer = imageio.get_writer(dst_dir, fps=fps)\n",
        "\n",
        "        # convert file\n",
        "        for im in reader:\n",
        "            writer.append_data(im[:, :, :])\n",
        "        writer.close()\n",
        "\n",
        "        print(\"Done! \", dst_dir)\n",
        "\n",
        "        #remove old file\n",
        "        os.remove(src_dir)"
      ],
      "execution_count": null,
      "outputs": [
        {
          "output_type": "stream",
          "text": [
            "Converting  /content/drive/MyDrive/RefinedData/Allied/Allied 2.avi\n",
            "Converting  /content/drive/MyDrive/RefinedData/Allied/Allied 4.avi\n",
            "Converting  /content/drive/MyDrive/RefinedData/Allied/Allied 3.avi\n",
            "Converting  /content/drive/MyDrive/RefinedData/Allied/Allied 1.avi\n",
            "Converting  /content/drive/MyDrive/RefinedData/Allied/Allied 5.avi\n",
            "Converting  /content/drive/MyDrive/RefinedData/ArlaMilk/ArlaMilk1.avi\n",
            "Converting  /content/drive/MyDrive/RefinedData/ArlaMilk/ArlaMilk2.avi\n",
            "Converting  /content/drive/MyDrive/RefinedData/BlueBand/BlueBand2.avi\n",
            "Converting  /content/drive/MyDrive/RefinedData/BlueBand/Blueband5.avi\n",
            "Converting  /content/drive/MyDrive/RefinedData/BlueBand/BlueBand4.avi\n",
            "Converting  /content/drive/MyDrive/RefinedData/BlueBand/BlueBand1.avi\n",
            "Converting  /content/drive/MyDrive/RefinedData/BlueBand/BlueBand3.avi\n",
            "Converting  /content/drive/MyDrive/RefinedData/Bonanza/Bonanza4.avi\n",
            "Converting  /content/drive/MyDrive/RefinedData/Bonanza/Bonanza3.avi\n",
            "Converting  /content/drive/MyDrive/RefinedData/Bonanza/Bonanza.avi\n",
            "Converting  /content/drive/MyDrive/RefinedData/Bonanza/Bonanza1.avi\n",
            "Converting  /content/drive/MyDrive/RefinedData/Bonanza/Bonanza2.avi\n",
            "Converting  /content/drive/MyDrive/RefinedData/Bonanza/Bonanza5.avi\n",
            "Converting  /content/drive/MyDrive/RefinedData/BonnBread/BonnBread1.avi\n",
            "Converting  /content/drive/MyDrive/RefinedData/BonnBread/Bonnbread2.avi\n",
            "Converting  /content/drive/MyDrive/RefinedData/BonnBread/BonnBread3.avi\n",
            "Converting  /content/drive/MyDrive/RefinedData/BMW/BMW5.avi\n",
            "Converting  /content/drive/MyDrive/RefinedData/BMW/BMW2.avi\n",
            "Converting  /content/drive/MyDrive/RefinedData/BMW/BMW3.avi\n",
            "Converting  /content/drive/MyDrive/RefinedData/BMW/BMW1.avi\n",
            "Converting  /content/drive/MyDrive/RefinedData/AsimJofa/AsimJofa1.avi\n",
            "Converting  /content/drive/MyDrive/RefinedData/AsimJofa/AsimJofa4.avi\n",
            "Converting  /content/drive/MyDrive/RefinedData/AsimJofa/AsimJofa3.avi\n",
            "Converting  /content/drive/MyDrive/RefinedData/Alkaram/Alkaram1.avi\n",
            "Converting  /content/drive/MyDrive/RefinedData/Alkaram/Alkaram2.avi\n",
            "Converting  /content/drive/MyDrive/RefinedData/Alkaram/Alkaram4.avi\n",
            "Converting  /content/drive/MyDrive/RefinedData/Alkaram/Alkaram3.avi\n",
            "Converting  /content/drive/MyDrive/RefinedData/Alfalah/Alfalah 4.avi\n",
            "Converting  /content/drive/MyDrive/RefinedData/Alfalah/Alfalah 1.avi\n",
            "Converting  /content/drive/MyDrive/RefinedData/BOP/BOP 2.avi\n",
            "Converting  /content/drive/MyDrive/RefinedData/BOP/BOP 1.avi\n",
            "Converting  /content/drive/MyDrive/RefinedData/easypaisa/easypaisa2.avi\n",
            "Converting  /content/drive/MyDrive/RefinedData/easypaisa/easypaisa8.avi\n",
            "Converting  /content/drive/MyDrive/RefinedData/easypaisa/easypaisa4.avi\n",
            "Converting  /content/drive/MyDrive/RefinedData/easypaisa/easypaisa5.avi\n",
            "Converting  /content/drive/MyDrive/RefinedData/easypaisa/easypaisa9.avi\n",
            "Converting  /content/drive/MyDrive/RefinedData/easypaisa/easypaisa1.avi\n",
            "Converting  /content/drive/MyDrive/RefinedData/easypaisa/easypaisa3.avi\n",
            "Converting  /content/drive/MyDrive/RefinedData/easypaisa/easypaisa6.avi\n",
            "Converting  /content/drive/MyDrive/RefinedData/easypaisa/easypaisa7.avi\n",
            "Converting  /content/drive/MyDrive/RefinedData/Candi/Candi1.avi\n",
            "Converting  /content/drive/MyDrive/RefinedData/Candi/Candi3.avi\n",
            "Converting  /content/drive/MyDrive/RefinedData/Candi/Candi2.avi\n",
            "Converting  /content/drive/MyDrive/RefinedData/Chocolatto/Chocolatto1.avi\n",
            "Converting  /content/drive/MyDrive/RefinedData/Chocolatto/Chocolatto2.avi\n",
            "Converting  /content/drive/MyDrive/RefinedData/chenab_college/chenab_college2.avi\n",
            "Converting  /content/drive/MyDrive/RefinedData/chenab_college/chenab_college1.avi\n",
            "Converting  /content/drive/MyDrive/RefinedData/Exide/Exide1.avi\n",
            "Converting  /content/drive/MyDrive/RefinedData/Exide/Exide3.avi\n",
            "Converting  /content/drive/MyDrive/RefinedData/Exide/Exide2.avi\n",
            "Converting  /content/drive/MyDrive/RefinedData/BrittanniaBread/BritanniaBread1.avi\n",
            "Converting  /content/drive/MyDrive/RefinedData/BrittanniaBread/BritanniaBread2.avi\n",
            "Converting  /content/drive/MyDrive/RefinedData/Brabus/Brabus1.avi\n",
            "Converting  /content/drive/MyDrive/RefinedData/Brabus/Brabus2.avi\n",
            "Converting  /content/drive/MyDrive/RefinedData/Colgate/ColgateToothbrush.avi\n",
            "Converting  /content/drive/MyDrive/RefinedData/Colgate/ColgateFloss1.avi\n",
            "Converting  /content/drive/MyDrive/RefinedData/Colgate/Colgate1.avi\n",
            "Converting  /content/drive/MyDrive/RefinedData/DawnBread/DawnBread4.avi\n",
            "Converting  /content/drive/MyDrive/RefinedData/DawnBread/DawnBread1.avi\n",
            "Converting  /content/drive/MyDrive/RefinedData/DawnBread/DawnBread3.avi\n",
            "Converting  /content/drive/MyDrive/RefinedData/DawnBread/DawnBread2.avi\n",
            "Converting  /content/drive/MyDrive/RefinedData/DawnBread/DawnBread5.avi\n",
            "Converting  /content/drive/MyDrive/RefinedData/DawnBread/DawnBread6.avi\n",
            "Converting  /content/drive/MyDrive/RefinedData/BunnysBread/BunnysBread2.avi\n",
            "Converting  /content/drive/MyDrive/RefinedData/BunnysBread/BunnysBread1.avi\n",
            "Converting  /content/drive/MyDrive/RefinedData/HilalCupKake/HilalKake.avi\n",
            "Converting  /content/drive/MyDrive/RefinedData/HilalCupKake/HilalCupKake4.avi\n",
            "Converting  /content/drive/MyDrive/RefinedData/HilalCupKake/HilalCupKake1.avi\n",
            "Converting  /content/drive/MyDrive/RefinedData/HilalCupKake/HilalCupKake5.avi\n",
            "Converting  /content/drive/MyDrive/RefinedData/HilalCupKake/HilalCupKake6.avi\n",
            "Converting  /content/drive/MyDrive/RefinedData/HilalCupKake/HilalCupKake3.avi\n",
            "Converting  /content/drive/MyDrive/RefinedData/HilalCupKake/HilalCupKake2.avi\n",
            "Converting  /content/drive/MyDrive/RefinedData/HBL/HBL 5.avi\n",
            "Converting  /content/drive/MyDrive/RefinedData/HBL/HBL 6.avi\n",
            "Converting  /content/drive/MyDrive/RefinedData/HBL/HBL 1.avi\n",
            "Converting  /content/drive/MyDrive/RefinedData/HBL/HBL 4.avi\n",
            "Converting  /content/drive/MyDrive/RefinedData/HBL/HBL 2.avi\n",
            "Converting  /content/drive/MyDrive/RefinedData/jazzcash/jazzcash11.mp4\n",
            "Done!  /content/drive/MyDrive/RefinedData/jazzcash/jazzcash11.avi\n",
            "Converting  /content/drive/MyDrive/RefinedData/jazzcash/jazzcash2.mp4\n",
            "Done!  /content/drive/MyDrive/RefinedData/jazzcash/jazzcash2.avi\n",
            "Converting  /content/drive/MyDrive/RefinedData/jazzcash/jazzcash1.avi\n",
            "Converting  /content/drive/MyDrive/RefinedData/jazzcash/jazzcash6.avi\n",
            "Converting  /content/drive/MyDrive/RefinedData/jazzcash/jazzcash8.avi\n",
            "Converting  /content/drive/MyDrive/RefinedData/jazzcash/jazzcash10.avi\n",
            "Converting  /content/drive/MyDrive/RefinedData/jazzcash/jazzcash9.avi\n",
            "Converting  /content/drive/MyDrive/RefinedData/jazzcash/jazzcash7.avi\n",
            "Converting  /content/drive/MyDrive/RefinedData/jazzcash/jazzcash4.avi\n",
            "Converting  /content/drive/MyDrive/RefinedData/jazzcash/jazzcash5.avi\n",
            "Converting  /content/drive/MyDrive/RefinedData/jazzcash/jazzcash3.avi\n",
            "Converting  /content/drive/MyDrive/RefinedData/GulAhmed/GulAhmed3.mp4\n",
            "Done!  /content/drive/MyDrive/RefinedData/GulAhmed/GulAhmed3.avi\n",
            "Converting  /content/drive/MyDrive/RefinedData/GulAhmed/GulAhmed5.mp4\n"
          ],
          "name": "stdout"
        },
        {
          "output_type": "stream",
          "text": [
            "/usr/local/lib/python3.7/dist-packages/imageio/core/format.py:411: UserWarning: Could not read last frame of /content/drive/MyDrive/RefinedData/GulAhmed/GulAhmed5.mp4.\n",
            "  warn(\"Could not read last frame of %s.\" % uri)\n"
          ],
          "name": "stderr"
        },
        {
          "output_type": "stream",
          "text": [
            "Done!  /content/drive/MyDrive/RefinedData/GulAhmed/GulAhmed5.avi\n",
            "Converting  /content/drive/MyDrive/RefinedData/GulAhmed/GulAhmed6.mp4\n",
            "Done!  /content/drive/MyDrive/RefinedData/GulAhmed/GulAhmed6.avi\n",
            "Converting  /content/drive/MyDrive/RefinedData/GulAhmed/GulAhmed1.mp4\n"
          ],
          "name": "stdout"
        },
        {
          "output_type": "stream",
          "text": [
            "/usr/local/lib/python3.7/dist-packages/imageio/core/format.py:411: UserWarning: Could not read last frame of /content/drive/MyDrive/RefinedData/GulAhmed/GulAhmed1.mp4.\n",
            "  warn(\"Could not read last frame of %s.\" % uri)\n"
          ],
          "name": "stderr"
        },
        {
          "output_type": "stream",
          "text": [
            "Done!  /content/drive/MyDrive/RefinedData/GulAhmed/GulAhmed1.avi\n",
            "Converting  /content/drive/MyDrive/RefinedData/GulAhmed/GulAhmed2.mp4\n",
            "Done!  /content/drive/MyDrive/RefinedData/GulAhmed/GulAhmed2.avi\n",
            "Converting  /content/drive/MyDrive/RefinedData/GulAhmed/GulAhmed4.mp4\n",
            "Done!  /content/drive/MyDrive/RefinedData/GulAhmed/GulAhmed4.avi\n",
            "Converting  /content/drive/MyDrive/RefinedData/HilalBakeTime1/HilalBakeTime2.mp4\n",
            "Done!  /content/drive/MyDrive/RefinedData/HilalBakeTime1/HilalBakeTime2.avi\n",
            "Converting  /content/drive/MyDrive/RefinedData/HilalBakeTime1/HilalBakeTime1.mp4\n",
            "Done!  /content/drive/MyDrive/RefinedData/HilalBakeTime1/HilalBakeTime1.avi\n",
            "Converting  /content/drive/MyDrive/RefinedData/Ittehad/Ittehad3.mp4\n",
            "Done!  /content/drive/MyDrive/RefinedData/Ittehad/Ittehad3.avi\n",
            "Converting  /content/drive/MyDrive/RefinedData/Ittehad/Ittehad2.mp4\n",
            "Done!  /content/drive/MyDrive/RefinedData/Ittehad/Ittehad2.avi\n",
            "Converting  /content/drive/MyDrive/RefinedData/Ittehad/Ittehad1.mp4\n",
            "Done!  /content/drive/MyDrive/RefinedData/Ittehad/Ittehad1.avi\n",
            "Converting  /content/drive/MyDrive/RefinedData/HaleebMilk/HaleebMilk2.mp4\n",
            "Done!  /content/drive/MyDrive/RefinedData/HaleebMilk/HaleebMilk2.avi\n",
            "Converting  /content/drive/MyDrive/RefinedData/HaleebMilk/HaleebMilk1.mp4\n",
            "Done!  /content/drive/MyDrive/RefinedData/HaleebMilk/HaleebMilk1.avi\n",
            "Converting  /content/drive/MyDrive/RefinedData/HoodMilk/HoodMilk1.mp4\n",
            "Done!  /content/drive/MyDrive/RefinedData/HoodMilk/HoodMilk1.avi\n",
            "Converting  /content/drive/MyDrive/RefinedData/HoodMilk/HoodMilk2.mp4\n"
          ],
          "name": "stdout"
        },
        {
          "output_type": "stream",
          "text": [
            "/usr/local/lib/python3.7/dist-packages/imageio/core/format.py:411: UserWarning: Could not read last frame of /content/drive/MyDrive/RefinedData/HoodMilk/HoodMilk2.mp4.\n",
            "  warn(\"Could not read last frame of %s.\" % uri)\n"
          ],
          "name": "stderr"
        },
        {
          "output_type": "stream",
          "text": [
            "Done!  /content/drive/MyDrive/RefinedData/HoodMilk/HoodMilk2.avi\n",
            "Converting  /content/drive/MyDrive/RefinedData/Haier_Refrigerators/Haier_Refrigerators2.mp4\n",
            "Done!  /content/drive/MyDrive/RefinedData/Haier_Refrigerators/Haier_Refrigerators2.avi\n",
            "Converting  /content/drive/MyDrive/RefinedData/Haier_Refrigerators/Haier_Refrigerators1.mp4\n",
            "Done!  /content/drive/MyDrive/RefinedData/Haier_Refrigerators/Haier_Refrigerators1.avi\n",
            "Converting  /content/drive/MyDrive/RefinedData/Kenwood_Refrigerators/Kenwood_Refrigerators2.mp4\n",
            "Done!  /content/drive/MyDrive/RefinedData/Kenwood_Refrigerators/Kenwood_Refrigerators2.avi\n",
            "Converting  /content/drive/MyDrive/RefinedData/Kenwood_Refrigerators/Kenwood_Refrigerators3.mp4\n"
          ],
          "name": "stdout"
        },
        {
          "output_type": "stream",
          "text": [
            "/usr/local/lib/python3.7/dist-packages/imageio/core/format.py:411: UserWarning: Could not read last frame of /content/drive/MyDrive/RefinedData/Kenwood_Refrigerators/Kenwood_Refrigerators3.mp4.\n",
            "  warn(\"Could not read last frame of %s.\" % uri)\n"
          ],
          "name": "stderr"
        },
        {
          "output_type": "stream",
          "text": [
            "Done!  /content/drive/MyDrive/RefinedData/Kenwood_Refrigerators/Kenwood_Refrigerators3.avi\n",
            "Converting  /content/drive/MyDrive/RefinedData/Kayseria/Kayseria2.mp4\n",
            "Done!  /content/drive/MyDrive/RefinedData/Kayseria/Kayseria2.avi\n",
            "Converting  /content/drive/MyDrive/RefinedData/Kayseria/Kayseria1.mp4\n",
            "Done!  /content/drive/MyDrive/RefinedData/Kayseria/Kayseria1.avi\n",
            "Converting  /content/drive/MyDrive/RefinedData/Kayseria/Kayseria3.mp4\n",
            "Done!  /content/drive/MyDrive/RefinedData/Kayseria/Kayseria3.avi\n",
            "Converting  /content/drive/MyDrive/RefinedData/LG_WashingMAchines/LG_WashingMachines2.mp4\n",
            "Done!  /content/drive/MyDrive/RefinedData/LG_WashingMAchines/LG_WashingMachines2.avi\n",
            "Converting  /content/drive/MyDrive/RefinedData/LG_WashingMAchines/LG_WashingMachines3.mp4\n"
          ],
          "name": "stdout"
        },
        {
          "output_type": "stream",
          "text": [
            "/usr/local/lib/python3.7/dist-packages/imageio/core/format.py:411: UserWarning: Could not read last frame of /content/drive/MyDrive/RefinedData/LG_WashingMAchines/LG_WashingMachines3.mp4.\n",
            "  warn(\"Could not read last frame of %s.\" % uri)\n"
          ],
          "name": "stderr"
        },
        {
          "output_type": "stream",
          "text": [
            "Done!  /content/drive/MyDrive/RefinedData/LG_WashingMAchines/LG_WashingMachines3.avi\n",
            "Converting  /content/drive/MyDrive/RefinedData/LG_WashingMAchines/LG_WashingMachines4.mp4\n",
            "Done!  /content/drive/MyDrive/RefinedData/LG_WashingMAchines/LG_WashingMachines4.avi\n",
            "Converting  /content/drive/MyDrive/RefinedData/LG_WashingMAchines/LG_WashingMachines1.mp4\n",
            "Done!  /content/drive/MyDrive/RefinedData/LG_WashingMAchines/LG_WashingMachines1.avi\n",
            "Converting  /content/drive/MyDrive/RefinedData/Limelight/Limelight1.mp4\n",
            "Done!  /content/drive/MyDrive/RefinedData/Limelight/Limelight1.avi\n",
            "Converting  /content/drive/MyDrive/RefinedData/Limelight/Limelight2.mp4\n",
            "Done!  /content/drive/MyDrive/RefinedData/Limelight/Limelight2.avi\n",
            "Converting  /content/drive/MyDrive/RefinedData/Limelight/Limelight3.mp4\n"
          ],
          "name": "stdout"
        }
      ]
    }
  ]
}