{
  "nbformat": 4,
  "nbformat_minor": 0,
  "metadata": {
    "colab": {
      "name": "AdNet_Prediction_Code.ipynb",
      "provenance": []
    },
    "kernelspec": {
      "name": "python3",
      "display_name": "Python 3"
    },
    "language_info": {
      "name": "python"
    }
  },
  "cells": [
    {
      "cell_type": "markdown",
      "metadata": {
        "id": "js4opnFH8SJN"
      },
      "source": [
        "# **Importing Necessary Libraries**"
      ]
    },
    {
      "cell_type": "code",
      "metadata": {
        "id": "_fGJvo0f8W5c"
      },
      "source": [
        "import tensorflow as tf\n",
        "import os\n",
        "import cv2\n",
        "import numpy as np \n",
        "import sys\n",
        "import keras\n",
        "from keras.models import Sequential\n",
        "from keras.layers import Dense, ConvLSTM2D, Flatten"
      ],
      "execution_count": null,
      "outputs": []
    },
    {
      "cell_type": "markdown",
      "metadata": {
        "id": "cw5ca85H8dH2"
      },
      "source": [
        "# **Prediction**"
      ]
    },
    {
      "cell_type": "code",
      "metadata": {
        "id": "JK4MJm-UrcJe"
      },
      "source": [
        "def load_video(path):\n",
        "  video = np.zeros((11, resize[1], resize[0], 3))\n",
        "  cap = cv2.VideoCapture(path)       \n",
        "  \n",
        "  if (cap.isOpened()== False):\n",
        "    sys.exit(\"Error opening video\")\n",
        "  \n",
        "  #determine step size \n",
        "  noOfFrames = int(cap.get(cv2.CAP_PROP_FRAME_COUNT))\n",
        "  step = int(noOfFrames/10)\n",
        "  if noOfFrames == 0:\n",
        "    sys.exit(\"No frames found\")\n",
        "  else:\n",
        "\n",
        "    count =0 \n",
        "    while 1:\n",
        "\n",
        "      #read specific frames\n",
        "      cap.set(cv2.CAP_PROP_POS_FRAMES, step*count)\n",
        "      ret, frame =cap.read()\n",
        "      \n",
        "      if ret == False or count > 10:   \n",
        "        break\n",
        "      \n",
        "      else:\n",
        "        frame =cv2.resize(frame, (32,18))\n",
        "        video[count, :,:,:]=frame/255 #map between 0 and 1 values\n",
        "\n",
        "        count +=1"
      ],
      "execution_count": null,
      "outputs": []
    },
    {
      "cell_type": "code",
      "metadata": {
        "id": "ikqni3H_8cwL"
      },
      "source": [
        "def prediction(test_video, unknown_data=None):\n",
        "  '''\n",
        "  Makes predictions and retrun label with its cosine similarity score as list\n",
        " \n",
        "  test_video: str\n",
        "    path to the testing video. This must be a single instance of an adverstisement. It must be in format '.avi'\n",
        "\n",
        "  unknown_data: list\n",
        "    it must be of size of 2 with first element as path to the video of the unknown data and second element as label.\n",
        "    Default = None (add no ad to database)\n",
        "\n",
        "   Notes:\n",
        "    - The function requires files \"model.h5\", \"AdNet.h5\" and directory \"Database\". thus these must be in the same folder as of this file.\n",
        "      otherwise the code will break \n",
        "  \n",
        "  '''\n",
        "  if unknown_data != None:\n",
        "    if len(unknown_data) != 2:\n",
        "      sys.exit(\"The len of the parameter ' unknown_data' must be 2\")\n",
        "  \n",
        "  fir, last = os.path.splitext(test_video)\n",
        "  if last != '.avi':\n",
        "    sys.exit(\"the video must be in format '.avi'\")\n",
        "\n",
        "  #Check whether Database and model exists in the current directory \n",
        "  Database = \"Database\"\n",
        "  AdNet = 'AdNet.h5'\n",
        "  model = 'model.h5'\n",
        "  \n",
        "  curr_dir = os.getcwd() #current working directory\n",
        "\n",
        "  if model not in os.listdir(curr_dir):\n",
        "    sys.exit('\"Model Not found: Make sure \"model.h5\" is in the same directory of this file and is named properly. ')\n",
        "  else:\n",
        "    print(\"Model found\")\n",
        "    \n",
        "    #Load model\n",
        "    from keras.models import load_model\n",
        "    model = load_model(os.path.join (curr_dir, model))\n",
        "\n",
        "  if Database not in os.listdir(curr_dir):\n",
        "    sys.exit('\"Dataabse Not found: Make sure folder \"Database\" is in the same directory of this file and is named properly. ')\n",
        "  else:\n",
        "    print(\"Database found\")\n",
        "    Database = os.path.join (curr_dir, Database)\n",
        "  \n",
        "\n",
        "  flag = False\n",
        "  if unknown_data != None:\n",
        "    \n",
        "    #Check whether brand exists\n",
        "    for labels in os.listdir(Database):\n",
        "      if labels == unknown_data[1]:\n",
        "        print(\"Ad already exist\")\n",
        "        flag =True\n",
        "        break\n",
        "\n",
        "    if not flag:\n",
        "      print(\"Ad not found database. Adding to it\")\n",
        "      \n",
        "\n",
        "      \n",
        "      unk = model.predict(load_video(unknown_data[0]))\n",
        "\n",
        "      filname = Database + '/' + unknown_data[0]\n",
        "\n",
        "      with open(filename, 'wb') as file:\n",
        "  \n",
        "        np.save(file, unk) #save feature vector to database\n",
        "\n",
        "  predict = model.predict(load_video(test_video))\n",
        "  cos_sim_list = []\n",
        "  label_list =[]\n",
        "\n",
        "  #Compare with database\n",
        "  for labels in os.listdir(Database):\n",
        "\n",
        "    path_fv = os.path.join(Database, labels)\n",
        "\n",
        "    fir, last = os.path.splitext(labels)\n",
        "\n",
        "    with open(path_fv, 'rb') as file:\n",
        "      fv = np.load(file)\n",
        "\n",
        "    #Cosine similarity\n",
        "    cos_sim = np.dot(fv, predict)/(np.linalg.norm(fv)*np.linalg.norm(predict))\n",
        "\n",
        "    if cos_sim > 0.8:\n",
        "      print (\"the label is \", fir, \" with cosine similarity with \", cos_sim*100, \"%\")\n",
        "      return [fir, cos_sim]\n",
        "    \n",
        "    else:\n",
        "      cos_sim_list.append(cos_sim)\n",
        "      label_list.append(fir)\n",
        "  \n",
        "  #chose brand with highest similarity\n",
        "  max_value =max(cos_sim_list)\n",
        "  label_value =label_list.index(max_value)\n",
        "\n",
        "  print (\"the label is \", label_value, \" with cosine similarity with \", max_value*100, \"%\")\n",
        "\n",
        "  return [label_value, max_value]"
      ],
      "execution_count": null,
      "outputs": []
    },
    {
      "cell_type": "markdown",
      "metadata": {
        "id": "wEEPdYXOGoA5"
      },
      "source": [
        "# **Output**"
      ]
    },
    {
      "cell_type": "code",
      "metadata": {
        "id": "f_wi2lL-GqVi"
      },
      "source": [
        "unknown_data = ['path', 'label']\n",
        "test_video = 'path'\n",
        "_ = prediction(test_video, unknown_data)"
      ],
      "execution_count": null,
      "outputs": []
    }
  ]
}